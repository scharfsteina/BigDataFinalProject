{
 "cells": [
  {
   "cell_type": "code",
   "execution_count": 75,
   "id": "conditional-assessment",
   "metadata": {},
   "outputs": [],
   "source": [
    "import pandas as pd\n",
    "import seaborn as sns\n",
    "import matplotlib.pyplot as plt\n",
    "from sklearn.ensemble import RandomForestClassifier\n",
    "from sklearn.linear_model import LogisticRegression\n",
    "from sklearn.metrics import f1_score, accuracy_score, confusion_matrix\n",
    "from sklearn.model_selection import train_test_split\n",
    "import statistics\n",
    "import math\n",
    "import numpy as np"
   ]
  },
  {
   "cell_type": "code",
   "execution_count": 94,
   "id": "enabling-enhancement",
   "metadata": {},
   "outputs": [
    {
     "data": {
      "text/html": [
       "<div>\n",
       "<style scoped>\n",
       "    .dataframe tbody tr th:only-of-type {\n",
       "        vertical-align: middle;\n",
       "    }\n",
       "\n",
       "    .dataframe tbody tr th {\n",
       "        vertical-align: top;\n",
       "    }\n",
       "\n",
       "    .dataframe thead th {\n",
       "        text-align: right;\n",
       "    }\n",
       "</style>\n",
       "<table border=\"1\" class=\"dataframe\">\n",
       "  <thead>\n",
       "    <tr style=\"text-align: right;\">\n",
       "      <th></th>\n",
       "      <th>name</th>\n",
       "      <th>album</th>\n",
       "      <th>artist</th>\n",
       "      <th>release_date</th>\n",
       "      <th>length</th>\n",
       "      <th>popularity</th>\n",
       "      <th>danceability</th>\n",
       "      <th>acousticness</th>\n",
       "      <th>energy</th>\n",
       "      <th>instrumentalness</th>\n",
       "      <th>...</th>\n",
       "      <th>loudness</th>\n",
       "      <th>speechiness</th>\n",
       "      <th>valence</th>\n",
       "      <th>tempo</th>\n",
       "      <th>lyric</th>\n",
       "      <th>debut_date</th>\n",
       "      <th>peak_position</th>\n",
       "      <th>peak_date</th>\n",
       "      <th>weeks_on_chart</th>\n",
       "      <th>billboard_rating</th>\n",
       "    </tr>\n",
       "  </thead>\n",
       "  <tbody>\n",
       "    <tr>\n",
       "      <th>0</th>\n",
       "      <td>tim mcgraw</td>\n",
       "      <td>Taylor Swift</td>\n",
       "      <td>Taylor Swift</td>\n",
       "      <td>2006-10-24</td>\n",
       "      <td>232106</td>\n",
       "      <td>49</td>\n",
       "      <td>0.580</td>\n",
       "      <td>0.57500</td>\n",
       "      <td>0.491</td>\n",
       "      <td>0.000000</td>\n",
       "      <td>...</td>\n",
       "      <td>-6.462</td>\n",
       "      <td>0.0251</td>\n",
       "      <td>0.4250</td>\n",
       "      <td>76.009</td>\n",
       "      <td>He said the way my blue eyes shined Put those ...</td>\n",
       "      <td>09.23.06</td>\n",
       "      <td>40.0</td>\n",
       "      <td>01.13.07</td>\n",
       "      <td>20.0</td>\n",
       "      <td>1</td>\n",
       "    </tr>\n",
       "    <tr>\n",
       "      <th>1</th>\n",
       "      <td>a perfectly good heart</td>\n",
       "      <td>Taylor Swift</td>\n",
       "      <td>Taylor Swift</td>\n",
       "      <td>2006-10-24</td>\n",
       "      <td>220146</td>\n",
       "      <td>46</td>\n",
       "      <td>0.483</td>\n",
       "      <td>0.00349</td>\n",
       "      <td>0.751</td>\n",
       "      <td>0.000000</td>\n",
       "      <td>...</td>\n",
       "      <td>-5.726</td>\n",
       "      <td>0.0365</td>\n",
       "      <td>0.2680</td>\n",
       "      <td>156.092</td>\n",
       "      <td>Why would you wanna break a perfectly good hea...</td>\n",
       "      <td>NaN</td>\n",
       "      <td>NaN</td>\n",
       "      <td>NaN</td>\n",
       "      <td>NaN</td>\n",
       "      <td>0</td>\n",
       "    </tr>\n",
       "    <tr>\n",
       "      <th>2</th>\n",
       "      <td>invisible</td>\n",
       "      <td>Taylor Swift</td>\n",
       "      <td>Taylor Swift</td>\n",
       "      <td>2006-10-24</td>\n",
       "      <td>203226</td>\n",
       "      <td>48</td>\n",
       "      <td>0.612</td>\n",
       "      <td>0.63700</td>\n",
       "      <td>0.394</td>\n",
       "      <td>0.000000</td>\n",
       "      <td>...</td>\n",
       "      <td>-5.723</td>\n",
       "      <td>0.0243</td>\n",
       "      <td>0.2330</td>\n",
       "      <td>96.001</td>\n",
       "      <td>She can't see the way your eyes Light up when ...</td>\n",
       "      <td>NaN</td>\n",
       "      <td>NaN</td>\n",
       "      <td>NaN</td>\n",
       "      <td>NaN</td>\n",
       "      <td>0</td>\n",
       "    </tr>\n",
       "    <tr>\n",
       "      <th>3</th>\n",
       "      <td>our song</td>\n",
       "      <td>Taylor Swift</td>\n",
       "      <td>Taylor Swift</td>\n",
       "      <td>2006-10-24</td>\n",
       "      <td>201106</td>\n",
       "      <td>54</td>\n",
       "      <td>0.668</td>\n",
       "      <td>0.11100</td>\n",
       "      <td>0.672</td>\n",
       "      <td>0.000000</td>\n",
       "      <td>...</td>\n",
       "      <td>-4.931</td>\n",
       "      <td>0.0303</td>\n",
       "      <td>0.5390</td>\n",
       "      <td>89.011</td>\n",
       "      <td>I was ridin' shotgun with my hair undone In th...</td>\n",
       "      <td>10.13.07</td>\n",
       "      <td>16.0</td>\n",
       "      <td>01.19.08</td>\n",
       "      <td>36.0</td>\n",
       "      <td>2</td>\n",
       "    </tr>\n",
       "    <tr>\n",
       "      <th>4</th>\n",
       "      <td>mary's song</td>\n",
       "      <td>Taylor Swift</td>\n",
       "      <td>Taylor Swift</td>\n",
       "      <td>2006-10-24</td>\n",
       "      <td>213080</td>\n",
       "      <td>50</td>\n",
       "      <td>0.403</td>\n",
       "      <td>0.01770</td>\n",
       "      <td>0.627</td>\n",
       "      <td>0.000000</td>\n",
       "      <td>...</td>\n",
       "      <td>-5.280</td>\n",
       "      <td>0.0292</td>\n",
       "      <td>0.3740</td>\n",
       "      <td>74.900</td>\n",
       "      <td>She said, I was seven and you were nine I look...</td>\n",
       "      <td>NaN</td>\n",
       "      <td>NaN</td>\n",
       "      <td>NaN</td>\n",
       "      <td>NaN</td>\n",
       "      <td>0</td>\n",
       "    </tr>\n",
       "    <tr>\n",
       "      <th>...</th>\n",
       "      <td>...</td>\n",
       "      <td>...</td>\n",
       "      <td>...</td>\n",
       "      <td>...</td>\n",
       "      <td>...</td>\n",
       "      <td>...</td>\n",
       "      <td>...</td>\n",
       "      <td>...</td>\n",
       "      <td>...</td>\n",
       "      <td>...</td>\n",
       "      <td>...</td>\n",
       "      <td>...</td>\n",
       "      <td>...</td>\n",
       "      <td>...</td>\n",
       "      <td>...</td>\n",
       "      <td>...</td>\n",
       "      <td>...</td>\n",
       "      <td>...</td>\n",
       "      <td>...</td>\n",
       "      <td>...</td>\n",
       "      <td>...</td>\n",
       "    </tr>\n",
       "    <tr>\n",
       "      <th>161</th>\n",
       "      <td>snow on the beach</td>\n",
       "      <td>Midnights (3am Edition)</td>\n",
       "      <td>Taylor Swift</td>\n",
       "      <td>2022-10-21</td>\n",
       "      <td>256124</td>\n",
       "      <td>85</td>\n",
       "      <td>0.659</td>\n",
       "      <td>0.73500</td>\n",
       "      <td>0.323</td>\n",
       "      <td>0.003210</td>\n",
       "      <td>...</td>\n",
       "      <td>-13.425</td>\n",
       "      <td>0.0436</td>\n",
       "      <td>0.1540</td>\n",
       "      <td>110.007</td>\n",
       "      <td>Snow On the Beach Lyrics I saw flecks of what ...</td>\n",
       "      <td>11.05.22</td>\n",
       "      <td>4.0</td>\n",
       "      <td>11.05.22</td>\n",
       "      <td>6.0</td>\n",
       "      <td>2</td>\n",
       "    </tr>\n",
       "    <tr>\n",
       "      <th>162</th>\n",
       "      <td>lavender haze</td>\n",
       "      <td>Midnights (3am Edition)</td>\n",
       "      <td>Taylor Swift</td>\n",
       "      <td>2022-10-21</td>\n",
       "      <td>202395</td>\n",
       "      <td>86</td>\n",
       "      <td>0.735</td>\n",
       "      <td>0.20400</td>\n",
       "      <td>0.444</td>\n",
       "      <td>0.001200</td>\n",
       "      <td>...</td>\n",
       "      <td>-10.519</td>\n",
       "      <td>0.0684</td>\n",
       "      <td>0.0984</td>\n",
       "      <td>97.038</td>\n",
       "      <td>Lavender Haze Lyrics Meet me at midnight Stari...</td>\n",
       "      <td>11.05.22</td>\n",
       "      <td>2.0</td>\n",
       "      <td>11.05.22</td>\n",
       "      <td>6.0</td>\n",
       "      <td>2</td>\n",
       "    </tr>\n",
       "    <tr>\n",
       "      <th>163</th>\n",
       "      <td>high infidelity</td>\n",
       "      <td>Midnights (3am Edition)</td>\n",
       "      <td>Taylor Swift</td>\n",
       "      <td>2022-10-21</td>\n",
       "      <td>231475</td>\n",
       "      <td>84</td>\n",
       "      <td>0.646</td>\n",
       "      <td>0.72300</td>\n",
       "      <td>0.529</td>\n",
       "      <td>0.000000</td>\n",
       "      <td>...</td>\n",
       "      <td>-10.179</td>\n",
       "      <td>0.0864</td>\n",
       "      <td>0.7550</td>\n",
       "      <td>87.862</td>\n",
       "      <td>High Infidelity Lyrics I didn't know you were ...</td>\n",
       "      <td>11.05.22</td>\n",
       "      <td>33.0</td>\n",
       "      <td>11.05.22</td>\n",
       "      <td>3.0</td>\n",
       "      <td>2</td>\n",
       "    </tr>\n",
       "    <tr>\n",
       "      <th>164</th>\n",
       "      <td>bejeweled</td>\n",
       "      <td>Midnights (3am Edition)</td>\n",
       "      <td>Taylor Swift</td>\n",
       "      <td>2022-10-21</td>\n",
       "      <td>194165</td>\n",
       "      <td>86</td>\n",
       "      <td>0.700</td>\n",
       "      <td>0.06610</td>\n",
       "      <td>0.550</td>\n",
       "      <td>0.000102</td>\n",
       "      <td>...</td>\n",
       "      <td>-9.130</td>\n",
       "      <td>0.0653</td>\n",
       "      <td>0.4120</td>\n",
       "      <td>164.003</td>\n",
       "      <td>Bejeweled Lyrics Didn't notice you walkin' all...</td>\n",
       "      <td>11.05.22</td>\n",
       "      <td>6.0</td>\n",
       "      <td>11.05.22</td>\n",
       "      <td>6.0</td>\n",
       "      <td>2</td>\n",
       "    </tr>\n",
       "    <tr>\n",
       "      <th>165</th>\n",
       "      <td>glitch</td>\n",
       "      <td>Midnights (3am Edition)</td>\n",
       "      <td>Taylor Swift</td>\n",
       "      <td>2022-10-21</td>\n",
       "      <td>148781</td>\n",
       "      <td>83</td>\n",
       "      <td>0.675</td>\n",
       "      <td>0.36100</td>\n",
       "      <td>0.466</td>\n",
       "      <td>0.000000</td>\n",
       "      <td>...</td>\n",
       "      <td>-9.738</td>\n",
       "      <td>0.2010</td>\n",
       "      <td>0.3470</td>\n",
       "      <td>140.864</td>\n",
       "      <td>Glitch Lyrics We were supposed to be just frie...</td>\n",
       "      <td>11.05.22</td>\n",
       "      <td>41.0</td>\n",
       "      <td>11.05.22</td>\n",
       "      <td>2.0</td>\n",
       "      <td>1</td>\n",
       "    </tr>\n",
       "  </tbody>\n",
       "</table>\n",
       "<p>166 rows × 21 columns</p>\n",
       "</div>"
      ],
      "text/plain": [
       "                       name                    album        artist  \\\n",
       "0                tim mcgraw             Taylor Swift  Taylor Swift   \n",
       "1    a perfectly good heart             Taylor Swift  Taylor Swift   \n",
       "2                 invisible             Taylor Swift  Taylor Swift   \n",
       "3                  our song             Taylor Swift  Taylor Swift   \n",
       "4               mary's song             Taylor Swift  Taylor Swift   \n",
       "..                      ...                      ...           ...   \n",
       "161       snow on the beach  Midnights (3am Edition)  Taylor Swift   \n",
       "162           lavender haze  Midnights (3am Edition)  Taylor Swift   \n",
       "163         high infidelity  Midnights (3am Edition)  Taylor Swift   \n",
       "164               bejeweled  Midnights (3am Edition)  Taylor Swift   \n",
       "165                  glitch  Midnights (3am Edition)  Taylor Swift   \n",
       "\n",
       "    release_date  length  popularity  danceability  acousticness  energy  \\\n",
       "0     2006-10-24  232106          49         0.580       0.57500   0.491   \n",
       "1     2006-10-24  220146          46         0.483       0.00349   0.751   \n",
       "2     2006-10-24  203226          48         0.612       0.63700   0.394   \n",
       "3     2006-10-24  201106          54         0.668       0.11100   0.672   \n",
       "4     2006-10-24  213080          50         0.403       0.01770   0.627   \n",
       "..           ...     ...         ...           ...           ...     ...   \n",
       "161   2022-10-21  256124          85         0.659       0.73500   0.323   \n",
       "162   2022-10-21  202395          86         0.735       0.20400   0.444   \n",
       "163   2022-10-21  231475          84         0.646       0.72300   0.529   \n",
       "164   2022-10-21  194165          86         0.700       0.06610   0.550   \n",
       "165   2022-10-21  148781          83         0.675       0.36100   0.466   \n",
       "\n",
       "     instrumentalness  ...  loudness  speechiness  valence    tempo  \\\n",
       "0            0.000000  ...    -6.462       0.0251   0.4250   76.009   \n",
       "1            0.000000  ...    -5.726       0.0365   0.2680  156.092   \n",
       "2            0.000000  ...    -5.723       0.0243   0.2330   96.001   \n",
       "3            0.000000  ...    -4.931       0.0303   0.5390   89.011   \n",
       "4            0.000000  ...    -5.280       0.0292   0.3740   74.900   \n",
       "..                ...  ...       ...          ...      ...      ...   \n",
       "161          0.003210  ...   -13.425       0.0436   0.1540  110.007   \n",
       "162          0.001200  ...   -10.519       0.0684   0.0984   97.038   \n",
       "163          0.000000  ...   -10.179       0.0864   0.7550   87.862   \n",
       "164          0.000102  ...    -9.130       0.0653   0.4120  164.003   \n",
       "165          0.000000  ...    -9.738       0.2010   0.3470  140.864   \n",
       "\n",
       "                                                 lyric debut_date  \\\n",
       "0    He said the way my blue eyes shined Put those ...   09.23.06   \n",
       "1    Why would you wanna break a perfectly good hea...        NaN   \n",
       "2    She can't see the way your eyes Light up when ...        NaN   \n",
       "3    I was ridin' shotgun with my hair undone In th...   10.13.07   \n",
       "4    She said, I was seven and you were nine I look...        NaN   \n",
       "..                                                 ...        ...   \n",
       "161  Snow On the Beach Lyrics I saw flecks of what ...   11.05.22   \n",
       "162  Lavender Haze Lyrics Meet me at midnight Stari...   11.05.22   \n",
       "163  High Infidelity Lyrics I didn't know you were ...   11.05.22   \n",
       "164  Bejeweled Lyrics Didn't notice you walkin' all...   11.05.22   \n",
       "165  Glitch Lyrics We were supposed to be just frie...   11.05.22   \n",
       "\n",
       "    peak_position  peak_date weeks_on_chart  billboard_rating  \n",
       "0            40.0   01.13.07           20.0                 1  \n",
       "1             NaN        NaN            NaN                 0  \n",
       "2             NaN        NaN            NaN                 0  \n",
       "3            16.0   01.19.08           36.0                 2  \n",
       "4             NaN        NaN            NaN                 0  \n",
       "..            ...        ...            ...               ...  \n",
       "161           4.0   11.05.22            6.0                 2  \n",
       "162           2.0   11.05.22            6.0                 2  \n",
       "163          33.0   11.05.22            3.0                 2  \n",
       "164           6.0   11.05.22            6.0                 2  \n",
       "165          41.0   11.05.22            2.0                 1  \n",
       "\n",
       "[166 rows x 21 columns]"
      ]
     },
     "execution_count": 94,
     "metadata": {},
     "output_type": "execute_result"
    }
   ],
   "source": [
    "data = pd.read_csv('data/merged.csv', index_col = 0)\n",
    "data"
   ]
  },
  {
   "cell_type": "code",
   "execution_count": 95,
   "id": "gorgeous-grace",
   "metadata": {},
   "outputs": [
    {
     "data": {
      "text/plain": [
       "['danceability',\n",
       " 'acousticness',\n",
       " 'energy',\n",
       " 'instrumentalness',\n",
       " 'liveness',\n",
       " 'loudness',\n",
       " 'speechiness',\n",
       " 'valence',\n",
       " 'tempo']"
      ]
     },
     "execution_count": 95,
     "metadata": {},
     "output_type": "execute_result"
    }
   ],
   "source": [
    "# get subset of relevant spotify features + billboard binary\n",
    "spotify = data.iloc[:,6:15]\n",
    "spotify['album'] = data['album']\n",
    "spotify['billboard_rating'] = data.iloc[:,-1]\n",
    "features = list(spotify.columns)\n",
    "del features[len(features) - 2:]\n",
    "features"
   ]
  },
  {
   "cell_type": "code",
   "execution_count": 96,
   "id": "purple-personal",
   "metadata": {},
   "outputs": [
    {
     "name": "stdout",
     "output_type": "stream",
     "text": [
      "-3.424302341012531e-16\n",
      "1.0\n"
     ]
    }
   ],
   "source": [
    "# Normalizing columns\n",
    "for f in features:\n",
    "    spotify[f] = (spotify[f]- spotify[f].mean()) / spotify[f].std()\n",
    "\n",
    "print((spotify[features[0]]).mean()) # should be ~ zero\n",
    "print((spotify[features[0]]).std()) # should be ~ 1"
   ]
  },
  {
   "cell_type": "code",
   "execution_count": 98,
   "id": "powered-flavor",
   "metadata": {},
   "outputs": [],
   "source": [
    "X = np.array(spotify[features])\n",
    "y = np.array(spotify[\"billboard_rating\"])\n",
    "X_train, X_test, y_train, y_test = train_test_split(X, y, test_size=0.3)"
   ]
  },
  {
   "cell_type": "code",
   "execution_count": 99,
   "id": "incorrect-regression",
   "metadata": {},
   "outputs": [
    {
     "data": {
      "image/png": "[encoded data removed]",
      "text/plain": [
       "<Figure size 720x504 with 1 Axes>"
      ]
     },
     "metadata": {
      "needs_background": "light"
     },
     "output_type": "display_data"
    }
   ],
   "source": [
    "plt.figure(figsize = (10,7))\n",
    "ax = sns.countplot(x=y, palette=\"Purples\")\n",
    "for p, label in zip(ax.patches, spotify[\"billboard_rating\"].value_counts(ascending=True)):\n",
    "    ax.annotate(label, ((p.get_x()+p.get_width()/2)-.05, p.get_height()+0.5), fontsize = 15)\n",
    "plt.title(\"Number of Songs on Billboard\",fontsize = 16)\n",
    "plt.xlabel(\"Billboard Rating\", fontsize = 15)\n",
    "plt.ylabel(\"Count\", fontsize = 15)\n",
    "plt.figtext(0,0,\"0: Least successful (songs not on Billboard)\\n1: Somewhat sucessful (songs above the median Billboard ranking)\\n2: Most successful (songs below the median Billboard ranking)\")\n",
    "plt.show()"
   ]
  },
  {
   "cell_type": "code",
   "execution_count": 100,
   "id": "defensive-dance",
   "metadata": {},
   "outputs": [
    {
     "data": {
      "text/plain": [
       "0.36"
      ]
     },
     "execution_count": 100,
     "metadata": {},
     "output_type": "execute_result"
    }
   ],
   "source": [
    "model_lr = LogisticRegression().fit(X_train, y_train)\n",
    "score = model_lr.score(X_test, y_test)\n",
    "score # 36 % is not good"
   ]
  },
  {
   "cell_type": "code",
   "execution_count": 101,
   "id": "amended-pixel",
   "metadata": {},
   "outputs": [],
   "source": [
    "def evaluate_model(model):\n",
    "    y_pred = model.predict(X_test)\n",
    "    accuracy = accuracy_score(y_test, y_pred)\n",
    "    f1score = f1_score(y_test, y_pred, average='weighted')\n",
    "    confusionmatrix = confusion_matrix(y_test, y_pred)\n",
    "    return {'y_pred': y_pred, 'accuracy': accuracy, 'f1': f1score, 'confusion': confusionmatrix}\n",
    "\n",
    "def disp_confusion(c, title):\n",
    "    sns.heatmap(c, annot=True, cmap=\"Purples\")\n",
    "    plt.title(f\"Confusion Matrix for {title} Features\", fontsize = 15)\n",
    "    plt.figtext(0,-.1,\"0: Least successful (songs not on Billboard)\\n1: Somewhat sucessful (songs above the median Billboard ranking)\\n2: Most successful (songs below the median Billboard ranking)\");"
   ]
  },
  {
   "cell_type": "code",
   "execution_count": 102,
   "id": "sonic-torture",
   "metadata": {},
   "outputs": [
    {
     "name": "stdout",
     "output_type": "stream",
     "text": [
      "Accuracy: 0.36\n",
      "F1 Score: 0.32161254199328115\n",
      "\n"
     ]
    }
   ],
   "source": [
    "lr_results = evaluate_model(model_lr)\n",
    "print(f\"Accuracy: {lr_results['accuracy']}\\nF1 Score: {lr_results['f1']}\\n\")"
   ]
  },
  {
   "cell_type": "code",
   "execution_count": 103,
   "id": "wooden-consumption",
   "metadata": {},
   "outputs": [
    {
     "data": {
      "image/png": "[encoded data removed]",
      "text/plain": [
       "<Figure size 432x288 with 2 Axes>"
      ]
     },
     "metadata": {
      "needs_background": "light"
     },
     "output_type": "display_data"
    }
   ],
   "source": [
    "disp_confusion(lr_results['confusion'], title=\"LR on Spotify\")"
   ]
  },
  {
   "cell_type": "code",
   "execution_count": 104,
   "id": "valued-malta",
   "metadata": {},
   "outputs": [],
   "source": [
    "model_rf = RandomForestClassifier().fit(X_train, y_train)"
   ]
  },
  {
   "cell_type": "code",
   "execution_count": 105,
   "id": "modified-round",
   "metadata": {
    "scrolled": true
   },
   "outputs": [
    {
     "name": "stdout",
     "output_type": "stream",
     "text": [
      "Accuracy: 0.38\n",
      "F1 Score: 0.32950904392764857\n",
      "\n"
     ]
    }
   ],
   "source": [
    "rf_results = evaluate_model(model_rf)\n",
    "print(f\"Accuracy: {rf_results['accuracy']}\\nF1 Score: {rf_results['f1']}\\n\")"
   ]
  },
  {
   "cell_type": "code",
   "execution_count": 106,
   "id": "emerging-respect",
   "metadata": {},
   "outputs": [
    {
     "data": {
      "image/png": "[encoded data removed]",
      "text/plain": [
       "<Figure size 432x288 with 2 Axes>"
      ]
     },
     "metadata": {
      "needs_background": "light"
     },
     "output_type": "display_data"
    }
   ],
   "source": [
    "disp_confusion(rf_results['confusion'], title=\"RF on Spotify\")"
   ]
  },
  {
   "cell_type": "code",
   "execution_count": 134,
   "id": "rural-mistake",
   "metadata": {},
   "outputs": [],
   "source": [
    "# NOT NEEDED\n",
    "# plt.figure(figsize=[15,6])\n",
    "# sns.barplot(x=features, y=model_rf.feature_importances_, palette = 'Purples')\n",
    "# plt.title(\"Feature Importance for Spotify Features on RF Model\", fontsize = 20)\n",
    "# plt.xlabel(\"Features\", fontsize = 15)\n",
    "# plt.ylabel(\"Feature Importance\", fontsize = 15);"
   ]
  },
  {
   "cell_type": "code",
   "execution_count": 108,
   "id": "digital-friend",
   "metadata": {},
   "outputs": [
    {
     "data": {
      "text/plain": [
       "True"
      ]
     },
     "execution_count": 108,
     "metadata": {},
     "output_type": "execute_result"
    }
   ],
   "source": [
    "tfidf = pd.read_csv('data/tfidf_embedding.csv')\n",
    "sum(tfidf['name'] == data[\"name\"]) == len(data) # songs are in the same order in the tfidf and data dataframes"
   ]
  },
  {
   "cell_type": "code",
   "execution_count": 109,
   "id": "formal-azerbaijan",
   "metadata": {},
   "outputs": [
    {
     "data": {
      "text/html": [
       "<div>\n",
       "<style scoped>\n",
       "    .dataframe tbody tr th:only-of-type {\n",
       "        vertical-align: middle;\n",
       "    }\n",
       "\n",
       "    .dataframe tbody tr th {\n",
       "        vertical-align: top;\n",
       "    }\n",
       "\n",
       "    .dataframe thead th {\n",
       "        text-align: right;\n",
       "    }\n",
       "</style>\n",
       "<table border=\"1\" class=\"dataframe\">\n",
       "  <thead>\n",
       "    <tr style=\"text-align: right;\">\n",
       "      <th></th>\n",
       "      <th>15</th>\n",
       "      <th>16</th>\n",
       "      <th>16th</th>\n",
       "      <th>17</th>\n",
       "      <th>18</th>\n",
       "      <th>1950</th>\n",
       "      <th>20</th>\n",
       "      <th>2003</th>\n",
       "      <th>22</th>\n",
       "      <th>29th</th>\n",
       "      <th>...</th>\n",
       "      <th>years</th>\n",
       "      <th>yell</th>\n",
       "      <th>yes</th>\n",
       "      <th>yesterday</th>\n",
       "      <th>yeugh</th>\n",
       "      <th>yogurt</th>\n",
       "      <th>york</th>\n",
       "      <th>young</th>\n",
       "      <th>younger</th>\n",
       "      <th>youyou</th>\n",
       "    </tr>\n",
       "  </thead>\n",
       "  <tbody>\n",
       "    <tr>\n",
       "      <th>0</th>\n",
       "      <td>0.0</td>\n",
       "      <td>0.0</td>\n",
       "      <td>0.0</td>\n",
       "      <td>0.0</td>\n",
       "      <td>0.0</td>\n",
       "      <td>0.000000</td>\n",
       "      <td>0.0</td>\n",
       "      <td>0.0</td>\n",
       "      <td>0.0</td>\n",
       "      <td>0.000000</td>\n",
       "      <td>...</td>\n",
       "      <td>0.0</td>\n",
       "      <td>0.0</td>\n",
       "      <td>0.0</td>\n",
       "      <td>0.0</td>\n",
       "      <td>0.0</td>\n",
       "      <td>0.0</td>\n",
       "      <td>0.0</td>\n",
       "      <td>0.0</td>\n",
       "      <td>0.0</td>\n",
       "      <td>0.0</td>\n",
       "    </tr>\n",
       "    <tr>\n",
       "      <th>1</th>\n",
       "      <td>0.0</td>\n",
       "      <td>0.0</td>\n",
       "      <td>0.0</td>\n",
       "      <td>0.0</td>\n",
       "      <td>0.0</td>\n",
       "      <td>0.000000</td>\n",
       "      <td>0.0</td>\n",
       "      <td>0.0</td>\n",
       "      <td>0.0</td>\n",
       "      <td>0.000000</td>\n",
       "      <td>...</td>\n",
       "      <td>0.0</td>\n",
       "      <td>0.0</td>\n",
       "      <td>0.0</td>\n",
       "      <td>0.0</td>\n",
       "      <td>0.0</td>\n",
       "      <td>0.0</td>\n",
       "      <td>0.0</td>\n",
       "      <td>0.0</td>\n",
       "      <td>0.0</td>\n",
       "      <td>0.0</td>\n",
       "    </tr>\n",
       "    <tr>\n",
       "      <th>2</th>\n",
       "      <td>0.0</td>\n",
       "      <td>0.0</td>\n",
       "      <td>0.0</td>\n",
       "      <td>0.0</td>\n",
       "      <td>0.0</td>\n",
       "      <td>0.000000</td>\n",
       "      <td>0.0</td>\n",
       "      <td>0.0</td>\n",
       "      <td>0.0</td>\n",
       "      <td>0.000000</td>\n",
       "      <td>...</td>\n",
       "      <td>0.0</td>\n",
       "      <td>0.0</td>\n",
       "      <td>0.0</td>\n",
       "      <td>0.0</td>\n",
       "      <td>0.0</td>\n",
       "      <td>0.0</td>\n",
       "      <td>0.0</td>\n",
       "      <td>0.0</td>\n",
       "      <td>0.0</td>\n",
       "      <td>0.0</td>\n",
       "    </tr>\n",
       "    <tr>\n",
       "      <th>3</th>\n",
       "      <td>0.0</td>\n",
       "      <td>0.0</td>\n",
       "      <td>0.0</td>\n",
       "      <td>0.0</td>\n",
       "      <td>0.0</td>\n",
       "      <td>0.000000</td>\n",
       "      <td>0.0</td>\n",
       "      <td>0.0</td>\n",
       "      <td>0.0</td>\n",
       "      <td>0.000000</td>\n",
       "      <td>...</td>\n",
       "      <td>0.0</td>\n",
       "      <td>0.0</td>\n",
       "      <td>0.0</td>\n",
       "      <td>0.0</td>\n",
       "      <td>0.0</td>\n",
       "      <td>0.0</td>\n",
       "      <td>0.0</td>\n",
       "      <td>0.0</td>\n",
       "      <td>0.0</td>\n",
       "      <td>0.0</td>\n",
       "    </tr>\n",
       "    <tr>\n",
       "      <th>4</th>\n",
       "      <td>0.0</td>\n",
       "      <td>0.0</td>\n",
       "      <td>0.0</td>\n",
       "      <td>0.0</td>\n",
       "      <td>0.0</td>\n",
       "      <td>0.000000</td>\n",
       "      <td>0.0</td>\n",
       "      <td>0.0</td>\n",
       "      <td>0.0</td>\n",
       "      <td>0.000000</td>\n",
       "      <td>...</td>\n",
       "      <td>0.0</td>\n",
       "      <td>0.0</td>\n",
       "      <td>0.0</td>\n",
       "      <td>0.0</td>\n",
       "      <td>0.0</td>\n",
       "      <td>0.0</td>\n",
       "      <td>0.0</td>\n",
       "      <td>0.0</td>\n",
       "      <td>0.0</td>\n",
       "      <td>0.0</td>\n",
       "    </tr>\n",
       "    <tr>\n",
       "      <th>...</th>\n",
       "      <td>...</td>\n",
       "      <td>...</td>\n",
       "      <td>...</td>\n",
       "      <td>...</td>\n",
       "      <td>...</td>\n",
       "      <td>...</td>\n",
       "      <td>...</td>\n",
       "      <td>...</td>\n",
       "      <td>...</td>\n",
       "      <td>...</td>\n",
       "      <td>...</td>\n",
       "      <td>...</td>\n",
       "      <td>...</td>\n",
       "      <td>...</td>\n",
       "      <td>...</td>\n",
       "      <td>...</td>\n",
       "      <td>...</td>\n",
       "      <td>...</td>\n",
       "      <td>...</td>\n",
       "      <td>...</td>\n",
       "      <td>...</td>\n",
       "    </tr>\n",
       "    <tr>\n",
       "      <th>161</th>\n",
       "      <td>0.0</td>\n",
       "      <td>0.0</td>\n",
       "      <td>0.0</td>\n",
       "      <td>0.0</td>\n",
       "      <td>0.0</td>\n",
       "      <td>0.000000</td>\n",
       "      <td>0.0</td>\n",
       "      <td>0.0</td>\n",
       "      <td>0.0</td>\n",
       "      <td>0.000000</td>\n",
       "      <td>...</td>\n",
       "      <td>0.0</td>\n",
       "      <td>0.0</td>\n",
       "      <td>0.0</td>\n",
       "      <td>0.0</td>\n",
       "      <td>0.0</td>\n",
       "      <td>0.0</td>\n",
       "      <td>0.0</td>\n",
       "      <td>0.0</td>\n",
       "      <td>0.0</td>\n",
       "      <td>0.0</td>\n",
       "    </tr>\n",
       "    <tr>\n",
       "      <th>162</th>\n",
       "      <td>0.0</td>\n",
       "      <td>0.0</td>\n",
       "      <td>0.0</td>\n",
       "      <td>0.0</td>\n",
       "      <td>0.0</td>\n",
       "      <td>0.183486</td>\n",
       "      <td>0.0</td>\n",
       "      <td>0.0</td>\n",
       "      <td>0.0</td>\n",
       "      <td>0.000000</td>\n",
       "      <td>...</td>\n",
       "      <td>0.0</td>\n",
       "      <td>0.0</td>\n",
       "      <td>0.0</td>\n",
       "      <td>0.0</td>\n",
       "      <td>0.0</td>\n",
       "      <td>0.0</td>\n",
       "      <td>0.0</td>\n",
       "      <td>0.0</td>\n",
       "      <td>0.0</td>\n",
       "      <td>0.0</td>\n",
       "    </tr>\n",
       "    <tr>\n",
       "      <th>163</th>\n",
       "      <td>0.0</td>\n",
       "      <td>0.0</td>\n",
       "      <td>0.0</td>\n",
       "      <td>0.0</td>\n",
       "      <td>0.0</td>\n",
       "      <td>0.000000</td>\n",
       "      <td>0.0</td>\n",
       "      <td>0.0</td>\n",
       "      <td>0.0</td>\n",
       "      <td>0.201775</td>\n",
       "      <td>...</td>\n",
       "      <td>0.0</td>\n",
       "      <td>0.0</td>\n",
       "      <td>0.0</td>\n",
       "      <td>0.0</td>\n",
       "      <td>0.0</td>\n",
       "      <td>0.0</td>\n",
       "      <td>0.0</td>\n",
       "      <td>0.0</td>\n",
       "      <td>0.0</td>\n",
       "      <td>0.0</td>\n",
       "    </tr>\n",
       "    <tr>\n",
       "      <th>164</th>\n",
       "      <td>0.0</td>\n",
       "      <td>0.0</td>\n",
       "      <td>0.0</td>\n",
       "      <td>0.0</td>\n",
       "      <td>0.0</td>\n",
       "      <td>0.000000</td>\n",
       "      <td>0.0</td>\n",
       "      <td>0.0</td>\n",
       "      <td>0.0</td>\n",
       "      <td>0.000000</td>\n",
       "      <td>...</td>\n",
       "      <td>0.0</td>\n",
       "      <td>0.0</td>\n",
       "      <td>0.0</td>\n",
       "      <td>0.0</td>\n",
       "      <td>0.0</td>\n",
       "      <td>0.0</td>\n",
       "      <td>0.0</td>\n",
       "      <td>0.0</td>\n",
       "      <td>0.0</td>\n",
       "      <td>0.0</td>\n",
       "    </tr>\n",
       "    <tr>\n",
       "      <th>165</th>\n",
       "      <td>0.0</td>\n",
       "      <td>0.0</td>\n",
       "      <td>0.0</td>\n",
       "      <td>0.0</td>\n",
       "      <td>0.0</td>\n",
       "      <td>0.000000</td>\n",
       "      <td>0.0</td>\n",
       "      <td>0.0</td>\n",
       "      <td>0.0</td>\n",
       "      <td>0.000000</td>\n",
       "      <td>...</td>\n",
       "      <td>0.0</td>\n",
       "      <td>0.0</td>\n",
       "      <td>0.0</td>\n",
       "      <td>0.0</td>\n",
       "      <td>0.0</td>\n",
       "      <td>0.0</td>\n",
       "      <td>0.0</td>\n",
       "      <td>0.0</td>\n",
       "      <td>0.0</td>\n",
       "      <td>0.0</td>\n",
       "    </tr>\n",
       "  </tbody>\n",
       "</table>\n",
       "<p>166 rows × 2791 columns</p>\n",
       "</div>"
      ],
      "text/plain": [
       "      15   16  16th   17   18      1950   20  2003   22      29th  ...  years  \\\n",
       "0    0.0  0.0   0.0  0.0  0.0  0.000000  0.0   0.0  0.0  0.000000  ...    0.0   \n",
       "1    0.0  0.0   0.0  0.0  0.0  0.000000  0.0   0.0  0.0  0.000000  ...    0.0   \n",
       "2    0.0  0.0   0.0  0.0  0.0  0.000000  0.0   0.0  0.0  0.000000  ...    0.0   \n",
       "3    0.0  0.0   0.0  0.0  0.0  0.000000  0.0   0.0  0.0  0.000000  ...    0.0   \n",
       "4    0.0  0.0   0.0  0.0  0.0  0.000000  0.0   0.0  0.0  0.000000  ...    0.0   \n",
       "..   ...  ...   ...  ...  ...       ...  ...   ...  ...       ...  ...    ...   \n",
       "161  0.0  0.0   0.0  0.0  0.0  0.000000  0.0   0.0  0.0  0.000000  ...    0.0   \n",
       "162  0.0  0.0   0.0  0.0  0.0  0.183486  0.0   0.0  0.0  0.000000  ...    0.0   \n",
       "163  0.0  0.0   0.0  0.0  0.0  0.000000  0.0   0.0  0.0  0.201775  ...    0.0   \n",
       "164  0.0  0.0   0.0  0.0  0.0  0.000000  0.0   0.0  0.0  0.000000  ...    0.0   \n",
       "165  0.0  0.0   0.0  0.0  0.0  0.000000  0.0   0.0  0.0  0.000000  ...    0.0   \n",
       "\n",
       "     yell  yes  yesterday  yeugh  yogurt  york  young  younger  youyou  \n",
       "0     0.0  0.0        0.0    0.0     0.0   0.0    0.0      0.0     0.0  \n",
       "1     0.0  0.0        0.0    0.0     0.0   0.0    0.0      0.0     0.0  \n",
       "2     0.0  0.0        0.0    0.0     0.0   0.0    0.0      0.0     0.0  \n",
       "3     0.0  0.0        0.0    0.0     0.0   0.0    0.0      0.0     0.0  \n",
       "4     0.0  0.0        0.0    0.0     0.0   0.0    0.0      0.0     0.0  \n",
       "..    ...  ...        ...    ...     ...   ...    ...      ...     ...  \n",
       "161   0.0  0.0        0.0    0.0     0.0   0.0    0.0      0.0     0.0  \n",
       "162   0.0  0.0        0.0    0.0     0.0   0.0    0.0      0.0     0.0  \n",
       "163   0.0  0.0        0.0    0.0     0.0   0.0    0.0      0.0     0.0  \n",
       "164   0.0  0.0        0.0    0.0     0.0   0.0    0.0      0.0     0.0  \n",
       "165   0.0  0.0        0.0    0.0     0.0   0.0    0.0      0.0     0.0  \n",
       "\n",
       "[166 rows x 2791 columns]"
      ]
     },
     "execution_count": 109,
     "metadata": {},
     "output_type": "execute_result"
    }
   ],
   "source": [
    "tfidf = tfidf.drop('name', axis=1)\n",
    "features = tfidf.columns\n",
    "tfidf"
   ]
  },
  {
   "cell_type": "code",
   "execution_count": null,
   "id": "proof-moment",
   "metadata": {},
   "outputs": [],
   "source": [
    "# features = list(tfidf.columns)\n",
    "\n",
    "# # Normalizing columns\n",
    "# for f in features:\n",
    "#     tfidf[f] = (tfidf[f]- tfidf[f].mean()) / tfidf[f].std()\n",
    "\n",
    "# print((tfidf[features[0]]).mean()) # should be ~ zero\n",
    "# print((tfidf[features[0]]).std()) # should be ~ 1\n",
    "# # DO I NEED TO DO THIS???"
   ]
  },
  {
   "cell_type": "code",
   "execution_count": 110,
   "id": "flexible-cargo",
   "metadata": {},
   "outputs": [],
   "source": [
    "x = np.array(tfidf)\n",
    "y = np.array(data[\"billboard_rating\"])\n",
    "X_train, X_test, y_train, y_test = train_test_split(x, y, test_size=0.3)"
   ]
  },
  {
   "cell_type": "markdown",
   "id": "emotional-technical",
   "metadata": {},
   "source": [
    "### todo: histogram of words ??"
   ]
  },
  {
   "cell_type": "code",
   "execution_count": 111,
   "id": "advised-pendant",
   "metadata": {},
   "outputs": [
    {
     "data": {
      "text/plain": [
       "0.46"
      ]
     },
     "execution_count": 111,
     "metadata": {},
     "output_type": "execute_result"
    }
   ],
   "source": [
    "model_lr = LogisticRegression().fit(X_train, y_train)\n",
    "score = model_lr.score(X_test, y_test)\n",
    "score # 50 % is not good"
   ]
  },
  {
   "cell_type": "code",
   "execution_count": 112,
   "id": "little-truck",
   "metadata": {},
   "outputs": [
    {
     "name": "stdout",
     "output_type": "stream",
     "text": [
      "Accuracy: 0.46\n",
      "F1 Score: 0.3977027027027027\n",
      "\n"
     ]
    }
   ],
   "source": [
    "lr_results = evaluate_model(model_lr)\n",
    "print(f\"Accuracy: {lr_results['accuracy']}\\nF1 Score: {lr_results['f1']}\\n\")"
   ]
  },
  {
   "cell_type": "code",
   "execution_count": 118,
   "id": "verbal-flooring",
   "metadata": {},
   "outputs": [
    {
     "data": {
      "image/png": "[encoded data removed]",
      "text/plain": [
       "<Figure size 432x288 with 2 Axes>"
      ]
     },
     "metadata": {
      "needs_background": "light"
     },
     "output_type": "display_data"
    }
   ],
   "source": [
    "# Fails to classify the songs that did not make it on the billboard\n",
    "disp_confusion(lr_results['confusion'], title=\"LR on TFIDF\")"
   ]
  },
  {
   "cell_type": "code",
   "execution_count": 131,
   "id": "expanded-ladder",
   "metadata": {},
   "outputs": [],
   "source": [
    "model_rf = RandomForestClassifier().fit(X_train, y_train)"
   ]
  },
  {
   "cell_type": "code",
   "execution_count": 132,
   "id": "logical-thompson",
   "metadata": {},
   "outputs": [
    {
     "name": "stdout",
     "output_type": "stream",
     "text": [
      "Accuracy: 0.42\n",
      "F1 Score: 0.3680985221674877\n",
      "\n"
     ]
    }
   ],
   "source": [
    "rf_results = evaluate_model(model_rf)\n",
    "print(f\"Accuracy: {rf_results['accuracy']}\\nF1 Score: {rf_results['f1']}\\n\")"
   ]
  },
  {
   "cell_type": "code",
   "execution_count": 133,
   "id": "planned-white",
   "metadata": {},
   "outputs": [
    {
     "data": {
      "image/png": "[encoded data removed]",
      "text/plain": [
       "<Figure size 432x288 with 2 Axes>"
      ]
     },
     "metadata": {
      "needs_background": "light"
     },
     "output_type": "display_data"
    }
   ],
   "source": [
    "disp_confusion(rf_results['confusion'], title=\"LR on TFIDF\")"
   ]
  },
  {
   "cell_type": "code",
   "execution_count": null,
   "id": "surrounded-inclusion",
   "metadata": {},
   "outputs": [],
   "source": []
  },
  {
   "cell_type": "markdown",
   "id": "starting-syracuse",
   "metadata": {},
   "source": [
    "## TFIDF Kmeans and PCA:"
   ]
  },
  {
   "cell_type": "code",
   "execution_count": null,
   "id": "classified-colors",
   "metadata": {},
   "outputs": [],
   "source": [
    "from sklearn.cluster import KMeans\n",
    "import matplotlib.pyplot as plt\n",
    "from sklearn.decomposition import PCA"
   ]
  },
  {
   "cell_type": "code",
   "execution_count": null,
   "id": "vertical-season",
   "metadata": {},
   "outputs": [],
   "source": [
    "tfidf = pd.read_csv('data/tfidf_embedding.csv')\n",
    "tfidf"
   ]
  },
  {
   "cell_type": "code",
   "execution_count": null,
   "id": "southwest-interim",
   "metadata": {},
   "outputs": [],
   "source": [
    "# Function to get album\n",
    "def get_album(song, spotify):\n",
    "    return (spotify.loc[spotify.name == song,'album']).to_string(index=False)\n",
    "\n",
    "tfidf_df = tfidf.loc[:, tfidf.columns != 'name']"
   ]
  },
  {
   "cell_type": "code",
   "execution_count": null,
   "id": "wrong-marketing",
   "metadata": {},
   "outputs": [],
   "source": [
    "# Elbow method to determine optimal number of clusters\n",
    "ss_dist = []\n",
    "K = range(2,15) # possible number of clusters\n",
    "for num_clusters in K :\n",
    "    kmeans = KMeans(n_clusters=num_clusters)\n",
    "    kmeans.fit(tfidf_df)\n",
    "    ss_dist.append(kmeans.inertia_)\n",
    "plt.plot(K,ss_dist,'bx-')\n",
    "plt.xlabel(\"Values of K\") \n",
    "plt.ylabel(\"Sum of squared distances/Inertia\") \n",
    "plt.title(\"Elbow Method For Optimal k\")\n",
    "plt.show(); # Shows that there is no optimal number of clusters"
   ]
  },
  {
   "cell_type": "code",
   "execution_count": null,
   "id": "instant-crown",
   "metadata": {},
   "outputs": [],
   "source": [
    "# For a 10 clusters solution maybe the songs are aligned by albums\n",
    "kmeans = KMeans(n_clusters=8)\n",
    "kmeans.fit(tfidf_df)\n",
    "clusters = kmeans.labels_\n",
    "pca = PCA(n_components=2, random_state=42)\n",
    "pca_vecs = pca.fit_transform(tfidf_df)\n",
    "x0 = pca_vecs[:, 0]\n",
    "x1 = pca_vecs[:, 1]\n",
    "print(pca.explained_variance_ratio_)\n",
    "data1 = data.copy()\n",
    "data1['Cluster'] = clusters\n",
    "data1['x0'] = x0\n",
    "data1['x1'] = x1"
   ]
  },
  {
   "cell_type": "code",
   "execution_count": null,
   "id": "affecting-frequency",
   "metadata": {},
   "outputs": [],
   "source": [
    "# Cluster by album\n",
    "pca = PCA(n_components=2, random_state=42)\n",
    "pca_vecs = pca.fit_transform(tfidf_df)\n",
    "x0 = pca_vecs[:, 0]\n",
    "x1 = pca_vecs[:, 1]\n",
    "print(pca.explained_variance_ratio_)\n",
    "data1['Album'] = spotify1['album']\n",
    "data1['x0'] = x0\n",
    "data1['x1'] = x1\n",
    "\n",
    "# # set image size\n",
    "plt.figure(figsize=(12, 7))\n",
    "# set title\n",
    "plt.title(\"Taylor Swift Lyrics TF-IDF Colored by Album\", fontdict={\"fontsize\": 18})\n",
    "# set axes names\n",
    "plt.xlabel(\"X0\", fontdict={\"fontsize\": 16})\n",
    "plt.ylabel(\"X1\", fontdict={\"fontsize\": 16})\n",
    "#  create scatter plot with seaborn, where hue is the class used to group the spotify\n",
    "sns.scatterplot(data=data1, x='x0', y='x1', hue='Album', palette=\"viridis\")\n",
    "plt.show()\n"
   ]
  }
 ],
 "metadata": {
  "kernelspec": {
   "display_name": "Python 3",
   "language": "python",
   "name": "python3"
  },
  "language_info": {
   "codemirror_mode": {
    "name": "ipython",
    "version": 3
   },
   "file_extension": ".py",
   "mimetype": "text/x-python",
   "name": "python",
   "nbconvert_exporter": "python",
   "pygments_lexer": "ipython3",
   "version": "3.7.4"
  }
 },
 "nbformat": 4,
 "nbformat_minor": 5
}
