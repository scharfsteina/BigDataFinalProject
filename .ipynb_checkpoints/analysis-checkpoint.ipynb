{
 "cells": [
  {
   "cell_type": "code",
   "execution_count": 1,
   "id": "conditional-assessment",
   "metadata": {},
   "outputs": [],
   "source": [
    "import pandas as pd\n",
    "import seaborn as sns\n",
    "import matplotlib.pyplot as plt\n",
    "from sklearn.ensemble import RandomForestClassifier\n",
    "from sklearn.linear_model import LogisticRegression\n",
    "import statistics\n",
    "import math"
   ]
  },
  {
   "cell_type": "code",
   "execution_count": 52,
   "id": "connected-veteran",
   "metadata": {},
   "outputs": [
    {
     "data": {
      "text/plain": [
       "{'1989 (Deluxe)',\n",
       " \"Fearless (Taylor's Version)\",\n",
       " 'Lover',\n",
       " 'Midnights (3am Edition)',\n",
       " 'Red (Deluxe Edition)',\n",
       " 'Taylor Swift',\n",
       " 'evermore (deluxe version)',\n",
       " 'folklore (deluxe version)',\n",
       " 'reputation'}"
      ]
     },
     "execution_count": 52,
     "metadata": {},
     "output_type": "execute_result"
    }
   ],
   "source": [
    "set(data['album'])\n",
    "album_order = {'Taylor Swift':0,'Fearless (Taylor\\'s Version)':1,''}"
   ]
  },
  {
   "cell_type": "code",
   "execution_count": 50,
   "id": "gorgeous-grace",
   "metadata": {},
   "outputs": [
    {
     "data": {
      "text/plain": [
       "['danceability',\n",
       " 'acousticness',\n",
       " 'energy',\n",
       " 'instrumentalness',\n",
       " 'liveness',\n",
       " 'loudness',\n",
       " 'speechiness',\n",
       " 'valence',\n",
       " 'tempo']"
      ]
     },
     "execution_count": 50,
     "metadata": {},
     "output_type": "execute_result"
    }
   ],
   "source": [
    "data = pd.read_csv('data/merged.csv', index_col = 0)\n",
    "# get subset of relevant spotify features + billboard binary\n",
    "temp = data.iloc[:,6:15]\n",
    "temp['album'] = data['album']\n",
    "temp['on_billboard'] = data.iloc[:,-1]\n",
    "data = temp\n",
    "features = list(data.columns)\n",
    "del features[len(features) - 2:]\n",
    "features"
   ]
  },
  {
   "cell_type": "code",
   "execution_count": 49,
   "id": "purple-personal",
   "metadata": {},
   "outputs": [
    {
     "name": "stdout",
     "output_type": "stream",
     "text": [
      "1.5925957870485004e-16\n",
      "1.0\n"
     ]
    }
   ],
   "source": [
    "# Normalizing columns\n",
    "for f in features:\n",
    "    data[f] = (data[f]- data[f].mean()) / data[f].std()\n",
    "\n",
    "print((data[features[0]]).mean()) # should be ~ zero\n",
    "print((data[features[0]]).std()) # should be ~ 1"
   ]
  },
  {
   "cell_type": "code",
   "execution_count": 31,
   "id": "incorrect-regression",
   "metadata": {},
   "outputs": [
    {
     "data": {
      "image/png": "[encoded data removed]",
      "text/plain": [
       "<Figure size 720x504 with 1 Axes>"
      ]
     },
     "metadata": {},
     "output_type": "display_data"
    }
   ],
   "source": [
    "sns.set_theme(style=\"whitegrid\")\n",
    "plt.figure(figsize = (10,7))\n",
    "ax = sns.countplot(x=data['on_billboard'])\n",
    "for p, label in zip(ax.patches, data['on_billboard'].value_counts(ascending=True)):\n",
    "    ax.annotate(label, (p.get_x()+0.375, p.get_height()+0.15))\n",
    "plt.title(\"Number of Songs on Billboard\")\n",
    "plt.show()"
   ]
  },
  {
   "cell_type": "code",
   "execution_count": 44,
   "id": "integrated-header",
   "metadata": {},
   "outputs": [
    {
     "data": {
      "text/html": [
       "<div>\n",
       "<style scoped>\n",
       "    .dataframe tbody tr th:only-of-type {\n",
       "        vertical-align: middle;\n",
       "    }\n",
       "\n",
       "    .dataframe tbody tr th {\n",
       "        vertical-align: top;\n",
       "    }\n",
       "\n",
       "    .dataframe thead th {\n",
       "        text-align: right;\n",
       "    }\n",
       "</style>\n",
       "<table border=\"1\" class=\"dataframe\">\n",
       "  <thead>\n",
       "    <tr style=\"text-align: right;\">\n",
       "      <th>on_billboard</th>\n",
       "      <th>0</th>\n",
       "      <th>1</th>\n",
       "    </tr>\n",
       "    <tr>\n",
       "      <th>album</th>\n",
       "      <th></th>\n",
       "      <th></th>\n",
       "    </tr>\n",
       "  </thead>\n",
       "  <tbody>\n",
       "    <tr>\n",
       "      <th>1989 (Deluxe)</th>\n",
       "      <td>5</td>\n",
       "      <td>11</td>\n",
       "    </tr>\n",
       "    <tr>\n",
       "      <th>Fearless (Taylor's Version)</th>\n",
       "      <td>23</td>\n",
       "      <td>0</td>\n",
       "    </tr>\n",
       "    <tr>\n",
       "      <th>Lover</th>\n",
       "      <td>1</td>\n",
       "      <td>15</td>\n",
       "    </tr>\n",
       "    <tr>\n",
       "      <th>Midnights (3am Edition)</th>\n",
       "      <td>0</td>\n",
       "      <td>17</td>\n",
       "    </tr>\n",
       "    <tr>\n",
       "      <th>Red (Deluxe Edition)</th>\n",
       "      <td>4</td>\n",
       "      <td>16</td>\n",
       "    </tr>\n",
       "    <tr>\n",
       "      <th>Taylor Swift</th>\n",
       "      <td>9</td>\n",
       "      <td>4</td>\n",
       "    </tr>\n",
       "    <tr>\n",
       "      <th>evermore (deluxe version)</th>\n",
       "      <td>0</td>\n",
       "      <td>11</td>\n",
       "    </tr>\n",
       "    <tr>\n",
       "      <th>folklore (deluxe version)</th>\n",
       "      <td>0</td>\n",
       "      <td>15</td>\n",
       "    </tr>\n",
       "    <tr>\n",
       "      <th>reputation</th>\n",
       "      <td>8</td>\n",
       "      <td>6</td>\n",
       "    </tr>\n",
       "  </tbody>\n",
       "</table>\n",
       "</div>"
      ],
      "text/plain": [
       "on_billboard                  0   1\n",
       "album                              \n",
       "1989 (Deluxe)                 5  11\n",
       "Fearless (Taylor's Version)  23   0\n",
       "Lover                         1  15\n",
       "Midnights (3am Edition)       0  17\n",
       "Red (Deluxe Edition)          4  16\n",
       "Taylor Swift                  9   4\n",
       "evermore (deluxe version)     0  11\n",
       "folklore (deluxe version)     0  15\n",
       "reputation                    8   6"
      ]
     },
     "execution_count": 44,
     "metadata": {},
     "output_type": "execute_result"
    }
   ],
   "source": [
    "pd.crosstab(data.album,data.on_billboard)\n",
    "# .plot(kind='bar', figsize = (10,7))\n",
    "# plt.title('Songs in Each Album on Billboard')\n",
    "# plt.xlabel('Album')\n",
    "# plt.ylabel('Number of Songs');"
   ]
  },
  {
   "cell_type": "code",
   "execution_count": 15,
   "id": "defensive-dance",
   "metadata": {},
   "outputs": [
    {
     "name": "stdout",
     "output_type": "stream",
     "text": [
      "0.7586206896551724\n",
      "y = 0.918459 + (0.044938 * x1) + (0.123965 * x2) + (0.316326 * x3) + (0.473033 * x4)\n",
      "0.6547737070742807\n"
     ]
    },
    {
     "data": {
      "image/png": "[encoded data removed]",
      "text/plain": [
       "<Figure size 432x288 with 1 Axes>"
      ]
     },
     "metadata": {},
     "output_type": "display_data"
    }
   ],
   "source": [
    "model = LogisticRegression(random_state=0).fit(data[features].values, data['On Billboard'].values)\n",
    "score = model.score(data[features].values, data['On Billboard'].values)\n",
    "print(score) # 75 % is not great\n",
    "\n",
    "w0 = model.intercept_[0]\n",
    "w = model.coef_[0]\n",
    " \n",
    "equation = \"y = %f + (%f * x1) + (%f * x2) + (%f * x3) + (%f * x4)\" % (w0, w[0], w[1], w[2], w[3])\n",
    "print(equation)\n",
    "\n",
    "idx = 99\n",
    "x = data.iloc[idx][features].values\n",
    "y = model.predict_proba(x.reshape(1, -1))[0]\n",
    "print(y[1])\n",
    "\n",
    "feature_importance = pd.DataFrame(features, columns = [\"feature\"])\n",
    "feature_importance[\"importance\"] = pow(math.e, w)\n",
    "feature_importance = feature_importance.sort_values(by = [\"importance\"], ascending=False)\n",
    " \n",
    "ax = feature_importance.plot.barh(x='feature', y='importance')\n",
    "plt.show()\n"
   ]
  }
 ],
 "metadata": {
  "kernelspec": {
   "display_name": "Python 3",
   "language": "python",
   "name": "python3"
  },
  "language_info": {
   "codemirror_mode": {
    "name": "ipython",
    "version": 3
   },
   "file_extension": ".py",
   "mimetype": "text/x-python",
   "name": "python",
   "nbconvert_exporter": "python",
   "pygments_lexer": "ipython3",
   "version": "3.7.4"
  }
 },
 "nbformat": 4,
 "nbformat_minor": 5
}
